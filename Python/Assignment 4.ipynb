{
 "cells": [
  {
   "cell_type": "code",
   "execution_count": 1,
   "id": "da75d137",
   "metadata": {},
   "outputs": [
    {
     "name": "stdout",
     "output_type": "stream",
     "text": [
      "Smallest element is: 4\n"
     ]
    }
   ],
   "source": [
    "## 1 ##\n",
    "l = [10, 20, 4, 45, 99]\n",
    "l.sort()\n",
    "print(\"Smallest element is:\", l[0])"
   ]
  },
  {
   "cell_type": "code",
   "execution_count": 2,
   "id": "bd84deb4",
   "metadata": {},
   "outputs": [
    {
     "name": "stdout",
     "output_type": "stream",
     "text": [
      "Largest element is: 99\n"
     ]
    }
   ],
   "source": [
    "## 2 ##\n",
    "l = [10, 20, 4, 45, 99]\n",
    "l.sort(reverse=True)\n",
    "print(\"Largest element is:\", l[0])"
   ]
  },
  {
   "cell_type": "code",
   "execution_count": 3,
   "id": "d0e19441",
   "metadata": {},
   "outputs": [
    {
     "name": "stdout",
     "output_type": "stream",
     "text": [
      "Second Largest element is: 45\n"
     ]
    }
   ],
   "source": [
    "## 3##\n",
    "l = [10, 20, 4, 45, 99]\n",
    "l.sort(reverse=True)\n",
    "print(\"Second Largest element is:\", l[1])"
   ]
  },
  {
   "cell_type": "code",
   "execution_count": 4,
   "id": "9c7f80bf",
   "metadata": {},
   "outputs": [
    {
     "name": "stdout",
     "output_type": "stream",
     "text": [
      "[99, 45, 20]\n"
     ]
    }
   ],
   "source": [
    "## 4 ##\n",
    "def N_maxElements(l,N):\n",
    "    l.sort(reverse=True)\n",
    "    c= l[0:N]\n",
    "    return c\n",
    "# example\n",
    "l = [10, 20, 4, 45, 99]\n",
    "print(N_maxElements(l,3))"
   ]
  },
  {
   "cell_type": "code",
   "execution_count": 6,
   "id": "4970ace5",
   "metadata": {},
   "outputs": [
    {
     "name": "stdout",
     "output_type": "stream",
     "text": [
      "10\n",
      "8\n",
      "4\n",
      "66\n"
     ]
    }
   ],
   "source": [
    "## 5 ##\n",
    "l = [10, 8, 4, 45, 66, 93]\n",
    "i=0\n",
    "while (i <len(l)):\n",
    "    if l[i]%2==0:\n",
    "        print(l[i])\n",
    "    i +=1"
   ]
  },
  {
   "cell_type": "code",
   "execution_count": 7,
   "id": "1ee5ac48",
   "metadata": {},
   "outputs": [
    {
     "name": "stdout",
     "output_type": "stream",
     "text": [
      "45\n",
      "93\n"
     ]
    }
   ],
   "source": [
    "## 6 ##\n",
    "l = [10, 8, 4, 45, 66, 93]\n",
    "i=0\n",
    "while (i <len(l)):\n",
    "    if l[i]%2!=0:\n",
    "        print(l[i])\n",
    "    i +=1"
   ]
  },
  {
   "cell_type": "code",
   "execution_count": 8,
   "id": "672d290f",
   "metadata": {},
   "outputs": [
    {
     "name": "stdout",
     "output_type": "stream",
     "text": [
      "8\n",
      "4\n",
      "66\n"
     ]
    }
   ],
   "source": [
    "## 7 ##\n",
    "l = [10, 8, 4, 45, 66, 93]\n",
    "lower =1\n",
    "upper =5\n",
    "for i in range(lower ,upper):\n",
    "    if l[i]%2==0:\n",
    "        print(l[i])"
   ]
  },
  {
   "cell_type": "code",
   "execution_count": 9,
   "id": "705f8ad0",
   "metadata": {},
   "outputs": [
    {
     "name": "stdout",
     "output_type": "stream",
     "text": [
      "67\n",
      "13\n"
     ]
    }
   ],
   "source": [
    "## 8 ##\n",
    "l = [10, 8, 4, 45, 66, 93,33,67,56,88,13]\n",
    "lower = 7\n",
    "upper = len(l)\n",
    "for i in range(lower ,upper):\n",
    "    if l[i]%2!=0:\n",
    "        print(l[i])"
   ]
  },
  {
   "cell_type": "code",
   "execution_count": 10,
   "id": "e95e1f48",
   "metadata": {},
   "outputs": [
    {
     "name": "stdout",
     "output_type": "stream",
     "text": [
      "10\n",
      "8\n",
      "45\n",
      "93\n"
     ]
    }
   ],
   "source": [
    "## 9 ##\n",
    "l = [10, 8, -4, 45, -66, 93]\n",
    "for i in range(len(l)):\n",
    "    if l[i] > 0:\n",
    "        print(l[i])"
   ]
  },
  {
   "cell_type": "code",
   "execution_count": 11,
   "id": "81b18e98",
   "metadata": {},
   "outputs": [
    {
     "name": "stdout",
     "output_type": "stream",
     "text": [
      "-4\n",
      "-66\n"
     ]
    }
   ],
   "source": [
    "## 10 ##\n",
    "l = [10, 8, -4, 45, -66, 93]\n",
    "for i in range(len(l)):\n",
    "    if l[i] < 0:\n",
    "        print(l[i])"
   ]
  },
  {
   "cell_type": "code",
   "execution_count": 12,
   "id": "04362f3c",
   "metadata": {},
   "outputs": [
    {
     "name": "stdout",
     "output_type": "stream",
     "text": [
      "8\n",
      "45\n",
      "93\n"
     ]
    }
   ],
   "source": [
    "## 11 ##\n",
    "l = [10, 8, -4, 45, -66, 93]\n",
    "lower = 1\n",
    "upper = len(l)\n",
    "for i in range(lower ,upper):\n",
    "    if l[i]>0:\n",
    "        print(l[i])"
   ]
  },
  {
   "cell_type": "code",
   "execution_count": null,
   "id": "b3375b8e",
   "metadata": {},
   "outputs": [],
   "source": []
  }
 ],
 "metadata": {
  "kernelspec": {
   "display_name": "Python 3",
   "language": "python",
   "name": "python3"
  },
  "language_info": {
   "codemirror_mode": {
    "name": "ipython",
    "version": 3
   },
   "file_extension": ".py",
   "mimetype": "text/x-python",
   "name": "python",
   "nbconvert_exporter": "python",
   "pygments_lexer": "ipython3",
   "version": "3.8.8"
  }
 },
 "nbformat": 4,
 "nbformat_minor": 5
}

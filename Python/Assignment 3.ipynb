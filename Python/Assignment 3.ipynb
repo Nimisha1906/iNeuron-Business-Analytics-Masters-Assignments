{
 "cells": [
  {
   "cell_type": "code",
   "execution_count": 2,
   "id": "7a599df5",
   "metadata": {},
   "outputs": [
    {
     "name": "stdout",
     "output_type": "stream",
     "text": [
      "3\n"
     ]
    }
   ],
   "source": [
    "##1##\n",
    "def reminder(arr, lens, n):\n",
    "    mul=1\n",
    "    for i in range(lens):\n",
    "        mul = mul * (arr[i])\n",
    "        c =mul % n\n",
    "    return c\n",
    "arr = [ 210,111,63,7,5,45,9]\n",
    "lens = len(arr)\n",
    "n = 13\n",
    "print( reminder(arr, lens, n))"
   ]
  },
  {
   "cell_type": "code",
   "execution_count": 3,
   "id": "a7e9c6c5",
   "metadata": {},
   "outputs": [
    {
     "name": "stdout",
     "output_type": "stream",
     "text": [
      "True\n"
     ]
    }
   ],
   "source": [
    "## 2 ##\n",
    "def isMonotonic(arr):\n",
    "  \n",
    "    return (all(arr[i] <= arr[i + 1] for i in range(len(arr) - 1)) or\n",
    "            all(arr[i] >= arr[i + 1] for i in range(len(arr) - 1)))\n",
    "# example\n",
    "arr = [7,8,9,10,11,15]\n",
    "print(isMonotonic(arr))"
   ]
  },
  {
   "cell_type": "code",
   "execution_count": 4,
   "id": "4927d98a",
   "metadata": {},
   "outputs": [
    {
     "name": "stdout",
     "output_type": "stream",
     "text": [
      "[6, 2, 3, 4, 5, 1]\n"
     ]
    }
   ],
   "source": [
    "## 3##\n",
    "l=[1,2,3,4,5,6]\n",
    "a=l[0]\n",
    "l[0]=l[len(l)-1]\n",
    "l[len(l)-1]=a\n",
    "print(l)"
   ]
  },
  {
   "cell_type": "code",
   "execution_count": 5,
   "id": "c1fee6dc",
   "metadata": {},
   "outputs": [
    {
     "name": "stdout",
     "output_type": "stream",
     "text": [
      "[1, 4, 3, 2, 5, 6]\n"
     ]
    }
   ],
   "source": [
    "## 4 ##\n",
    "def swap(l,position1,position2):\n",
    "    a=l[position1]\n",
    "    l[position1]=l[position2]\n",
    "    l[position2]=a\n",
    "    return l\n",
    "# example\n",
    "l=[1,2,3,4,5,6]\n",
    "print(swap(l,1,3))"
   ]
  },
  {
   "cell_type": "code",
   "execution_count": 7,
   "id": "37d3cc67",
   "metadata": {},
   "outputs": [
    {
     "name": "stdout",
     "output_type": "stream",
     "text": [
      "6\n"
     ]
    }
   ],
   "source": [
    "## 5##\n",
    "len(l) #to find length of list l\n",
    "# example\n",
    "l=[1,2,3,4,5,6]\n",
    "print(len(l))"
   ]
  },
  {
   "cell_type": "code",
   "execution_count": 8,
   "id": "d4f4cbe3",
   "metadata": {},
   "outputs": [
    {
     "name": "stdout",
     "output_type": "stream",
     "text": [
      "Yes, 'apple' is in the list\n"
     ]
    }
   ],
   "source": [
    "## 6 ##\n",
    "l = [\"apple\", \"banana\", \"cherry\"]\n",
    "if \"apple\" in l:\n",
    "    print(\"Yes, 'apple' is in the list\")"
   ]
  },
  {
   "cell_type": "code",
   "execution_count": 9,
   "id": "343e38a4",
   "metadata": {},
   "outputs": [
    {
     "name": "stdout",
     "output_type": "stream",
     "text": [
      "[]\n"
     ]
    }
   ],
   "source": [
    "##7##\n",
    "l = [\"apple\", \"banana\", \"cherry\"]\n",
    "l.clear()\n",
    "print(l)"
   ]
  },
  {
   "cell_type": "code",
   "execution_count": 10,
   "id": "882b2e6b",
   "metadata": {},
   "outputs": [
    {
     "name": "stdout",
     "output_type": "stream",
     "text": [
      "['cherry', 'banana', 'apple']\n"
     ]
    }
   ],
   "source": [
    "## 8 ##\n",
    "l = [\"apple\", \"banana\", \"cherry\"]\n",
    "l.reverse()\n",
    "print(l)"
   ]
  },
  {
   "cell_type": "code",
   "execution_count": 13,
   "id": "ea3fe4e8",
   "metadata": {},
   "outputs": [
    {
     "name": "stdout",
     "output_type": "stream",
     "text": [
      "450\n"
     ]
    }
   ],
   "source": [
    "## 9 ##\n",
    "def sum(l, lens):\n",
    "    s=0\n",
    "    for i in range(lens):\n",
    "        s = s + (arr[i])\n",
    "        \n",
    "    return s\n",
    "l = [ 210,111,63,7,5,45,9]\n",
    "lens = len(arr)\n",
    "print( sum(l, lens))"
   ]
  },
  {
   "cell_type": "code",
   "execution_count": 12,
   "id": "5e622519",
   "metadata": {},
   "outputs": [
    {
     "name": "stdout",
     "output_type": "stream",
     "text": [
      "20816412750\n"
     ]
    }
   ],
   "source": [
    "## 10 ##\n",
    "def multiplication(l, lens):\n",
    "    mul=1\n",
    "    for i in range(lens):\n",
    "        mul = mul * (arr[i])\n",
    "        \n",
    "    return mul\n",
    "l = [ 210,111,63,7,5,45,9]\n",
    "lens = len(arr)\n",
    "print( multiplication(l, lens))"
   ]
  },
  {
   "cell_type": "code",
   "execution_count": null,
   "id": "cc37d77d",
   "metadata": {},
   "outputs": [],
   "source": []
  }
 ],
 "metadata": {
  "kernelspec": {
   "display_name": "Python 3",
   "language": "python",
   "name": "python3"
  },
  "language_info": {
   "codemirror_mode": {
    "name": "ipython",
    "version": 3
   },
   "file_extension": ".py",
   "mimetype": "text/x-python",
   "name": "python",
   "nbconvert_exporter": "python",
   "pygments_lexer": "ipython3",
   "version": "3.8.8"
  }
 },
 "nbformat": 4,
 "nbformat_minor": 5
}

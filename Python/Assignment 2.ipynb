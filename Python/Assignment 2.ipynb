{
 "cells": [
  {
   "cell_type": "code",
   "execution_count": 3,
   "id": "99062164",
   "metadata": {},
   "outputs": [
    {
     "data": {
      "text/plain": [
       "13"
      ]
     },
     "execution_count": 3,
     "metadata": {},
     "output_type": "execute_result"
    }
   ],
   "source": [
    "##1##\n",
    "def fibonacci(n):\n",
    "    if n<=0:\n",
    "        print('incorrect input')\n",
    "    elif n==1:\n",
    "        return 0\n",
    "    elif n==2:\n",
    "        return 1\n",
    "    else:\n",
    "        return fibonacci(n-1) + fibonacci(n-2)\n",
    "# example\n",
    "fibonacci(8)"
   ]
  },
  {
   "cell_type": "code",
   "execution_count": 4,
   "id": "65893c15",
   "metadata": {},
   "outputs": [
    {
     "data": {
      "text/plain": [
       "True"
      ]
     },
     "execution_count": 4,
     "metadata": {},
     "output_type": "execute_result"
    }
   ],
   "source": [
    "##2##\n",
    "import math\n",
    "def square(x):\n",
    "    s=int(math.sqrt(x))\n",
    "    return s**2==x\n",
    "def isnumber_fibonacci(n):\n",
    "    return square(5*n**2+4) or square(5*n**2-4)\n",
    "#example\n",
    "isnumber_fibonacci(13)"
   ]
  },
  {
   "cell_type": "code",
   "execution_count": 1,
   "id": "5fb241d8",
   "metadata": {},
   "outputs": [
    {
     "data": {
      "text/plain": [
       "514229"
      ]
     },
     "execution_count": 1,
     "metadata": {},
     "output_type": "execute_result"
    }
   ],
   "source": [
    "##3##\n",
    "# Python Program to find position\n",
    "# of n'th multiple of a number k\n",
    "# in Fibonacci Series\n",
    " \n",
    "def findPosition(k, n):\n",
    "    f1 = 0\n",
    "    f2 = 1\n",
    "    i = 2;\n",
    "    while i != 0:\n",
    "        f3 = f1 + f2;\n",
    "        f1 = f2;\n",
    "        f2 = f3;\n",
    " \n",
    "        if f2 % k == 0:\n",
    "            return n * i\n",
    " \n",
    "        i += 1\n",
    "         \n",
    "    return\n",
    "\n",
    "def fibonacci(a):\n",
    "    if a<=0:\n",
    "        print('incorrect input')\n",
    "    elif a==1:\n",
    "        return 0\n",
    "    elif a==2:\n",
    "        return 1\n",
    "    else:\n",
    "        return fibonacci(a-1) + fibonacci(a-2)\n",
    "\n",
    "fibonacci(findPosition(4, 5))"
   ]
  },
  {
   "cell_type": "code",
   "execution_count": null,
   "id": "3e054dab",
   "metadata": {},
   "outputs": [],
   "source": []
  }
 ],
 "metadata": {
  "kernelspec": {
   "display_name": "Python 3",
   "language": "python",
   "name": "python3"
  },
  "language_info": {
   "codemirror_mode": {
    "name": "ipython",
    "version": 3
   },
   "file_extension": ".py",
   "mimetype": "text/x-python",
   "name": "python",
   "nbconvert_exporter": "python",
   "pygments_lexer": "ipython3",
   "version": "3.8.8"
  }
 },
 "nbformat": 4,
 "nbformat_minor": 5
}

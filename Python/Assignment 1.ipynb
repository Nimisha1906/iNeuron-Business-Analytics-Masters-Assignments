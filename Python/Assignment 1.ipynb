{
 "cells": [
  {
   "cell_type": "code",
   "execution_count": 1,
   "id": "b0600b16",
   "metadata": {},
   "outputs": [
    {
     "name": "stdout",
     "output_type": "stream",
     "text": [
      "[1505, 1540, 1575, 1610, 1645, 1680, 1715, 1750, 1785, 1820, 1855, 1890, 1925, 1960, 1995, 2030, 2065, 2100, 2135, 2170, 2205, 2240, 2275, 2310, 2345, 2380, 2415, 2450, 2485, 2520, 2555, 2590, 2625, 2660, 2695]\n"
     ]
    }
   ],
   "source": [
    "## 1 ##\n",
    "a=[]\n",
    "for i in range(1500,2701):\n",
    "    if (i%7==0) and (i%5==0):\n",
    "     a.append(i)\n",
    "print(a)"
   ]
  },
  {
   "cell_type": "code",
   "execution_count": 2,
   "id": "bb24e35a",
   "metadata": {},
   "outputs": [
    {
     "data": {
      "text/plain": [
       "13"
      ]
     },
     "execution_count": 2,
     "metadata": {},
     "output_type": "execute_result"
    }
   ],
   "source": [
    "## 2 ##\n",
    "def sum(a,b):\n",
    "    c=a+b\n",
    "    return (c)\n",
    "#example\n",
    "sum(4,9)"
   ]
  },
  {
   "cell_type": "code",
   "execution_count": 3,
   "id": "17fb0183",
   "metadata": {},
   "outputs": [
    {
     "name": "stdout",
     "output_type": "stream",
     "text": [
      "6\n"
     ]
    }
   ],
   "source": [
    "## 3 ##\n",
    "def maximum(a,b):\n",
    "    if a >=  b:\n",
    "        return a\n",
    "    else:\n",
    "        return b\n",
    "# example\n",
    "print(maximum(5,6))\n",
    "    "
   ]
  },
  {
   "cell_type": "code",
   "execution_count": 4,
   "id": "99a1cc47",
   "metadata": {},
   "outputs": [
    {
     "name": "stdout",
     "output_type": "stream",
     "text": [
      "5040\n"
     ]
    }
   ],
   "source": [
    "## 4 ##\n",
    "import math\n",
    "def factorial(a):\n",
    "    c=math.factorial(a)\n",
    "    return c\n",
    "# example\n",
    "print(factorial(7))"
   ]
  },
  {
   "cell_type": "code",
   "execution_count": 5,
   "id": "3277c07f",
   "metadata": {},
   "outputs": [
    {
     "name": "stdout",
     "output_type": "stream",
     "text": [
      "500.0\n"
     ]
    }
   ],
   "source": [
    "## 5 ##\n",
    "def simple_interest(p,n,r):\n",
    "    c= p*n*r/100\n",
    "    return c\n",
    "# example\n",
    "print(simple_interest(5000,2,5))"
   ]
  },
  {
   "cell_type": "code",
   "execution_count": 6,
   "id": "6b392382",
   "metadata": {},
   "outputs": [
    {
     "data": {
      "text/plain": [
       "512.5"
      ]
     },
     "execution_count": 6,
     "metadata": {},
     "output_type": "execute_result"
    }
   ],
   "source": [
    "## 6 ##\n",
    "def compound_interest(principle,rate,time):\n",
    "    Amount= principle*((1+rate/100)**time)\n",
    "    CI = Amount-principle\n",
    "    return CI\n",
    "#example\n",
    "compound_interest(5000,5,2)"
   ]
  },
  {
   "cell_type": "code",
   "execution_count": 8,
   "id": "3603132c",
   "metadata": {},
   "outputs": [
    {
     "name": "stdout",
     "output_type": "stream",
     "text": [
      "543 is not an Armstrong number\n"
     ]
    }
   ],
   "source": [
    "## 7 ##\n",
    "num=543 #enter any number that we need to check\n",
    "\n",
    "order = len(str(num))\n",
    "\n",
    "sum = 0\n",
    "\n",
    "a = num\n",
    "while a > 0:\n",
    "   digit = a % 10\n",
    "   power = digit ** order\n",
    "   sum += power \n",
    "   a //= 10\n",
    "\n",
    "if num == sum:\n",
    "   print(num,\"is an Armstrong number\")\n",
    "else:\n",
    "   print(num,\"is not an Armstrong number\")"
   ]
  },
  {
   "cell_type": "code",
   "execution_count": 9,
   "id": "e157287a",
   "metadata": {},
   "outputs": [
    {
     "data": {
      "text/plain": [
       "153.93804002589985"
      ]
     },
     "execution_count": 9,
     "metadata": {},
     "output_type": "execute_result"
    }
   ],
   "source": [
    "## 8 ##\n",
    "import math\n",
    "def area(radius):\n",
    "    A= math.pi*radius**2\n",
    "    return A\n",
    "# example - area of circle with radius 7\n",
    "area(7)"
   ]
  },
  {
   "cell_type": "code",
   "execution_count": 5,
   "id": "78200d6a",
   "metadata": {},
   "outputs": [
    {
     "name": "stdout",
     "output_type": "stream",
     "text": [
      "2\n",
      "3\n",
      "5\n",
      "7\n",
      "11\n",
      "13\n",
      "17\n",
      "19\n",
      "23\n",
      "29\n",
      "31\n",
      "37\n",
      "41\n",
      "43\n",
      "47\n",
      "53\n",
      "59\n",
      "61\n",
      "67\n",
      "71\n",
      "73\n",
      "79\n",
      "83\n",
      "89\n",
      "97\n"
     ]
    }
   ],
   "source": [
    "## 9 ##\n",
    "for num in range(l,u+1):  \n",
    "   if num > 1:  \n",
    "       for i in range(2,num):  \n",
    "           if (num % i) == 0:  \n",
    "               break  \n",
    "       else:  \n",
    "         print(num)\n",
    "#example            \n",
    "l=1\n",
    "u=100\n"
   ]
  },
  {
   "cell_type": "code",
   "execution_count": 6,
   "id": "42e20fe3",
   "metadata": {},
   "outputs": [
    {
     "name": "stdout",
     "output_type": "stream",
     "text": [
      "not prime number\n"
     ]
    }
   ],
   "source": [
    "## 10 ##\n",
    "for i in range(2,num):\n",
    "    if (num % i) == 0:\n",
    "     print(\"not prime number\")\n",
    "     break\n",
    "else:\n",
    "     print('prime')\n",
    "# example\n",
    "num=29"
   ]
  },
  {
   "cell_type": "code",
   "execution_count": null,
   "id": "5677abf2",
   "metadata": {},
   "outputs": [],
   "source": []
  }
 ],
 "metadata": {
  "kernelspec": {
   "display_name": "Python 3",
   "language": "python",
   "name": "python3"
  },
  "language_info": {
   "codemirror_mode": {
    "name": "ipython",
    "version": 3
   },
   "file_extension": ".py",
   "mimetype": "text/x-python",
   "name": "python",
   "nbconvert_exporter": "python",
   "pygments_lexer": "ipython3",
   "version": "3.8.8"
  }
 },
 "nbformat": 4,
 "nbformat_minor": 5
}

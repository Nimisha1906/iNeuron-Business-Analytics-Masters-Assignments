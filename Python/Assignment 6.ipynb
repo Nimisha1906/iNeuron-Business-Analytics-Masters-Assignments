{
 "cells": [
  {
   "cell_type": "code",
   "execution_count": 2,
   "id": "308de877",
   "metadata": {},
   "outputs": [],
   "source": [
    "import numpy as np\n",
    "m1=[[1,2],[3,4]]\n",
    "m2=[[5,6],[7,8]]\n",
    "a1=np.array(m1)\n",
    "a2=np.array(m2)\n"
   ]
  },
  {
   "cell_type": "code",
   "execution_count": 4,
   "id": "3b989084",
   "metadata": {},
   "outputs": [
    {
     "data": {
      "text/plain": [
       "array([[ 6,  8],\n",
       "       [10, 12]])"
      ]
     },
     "execution_count": 4,
     "metadata": {},
     "output_type": "execute_result"
    }
   ],
   "source": [
    "##1##\n",
    "#sum of 2 matrices\n",
    "sum= a1+a2\n",
    "sum"
   ]
  },
  {
   "cell_type": "code",
   "execution_count": 5,
   "id": "c3a92933",
   "metadata": {},
   "outputs": [
    {
     "data": {
      "text/plain": [
       "array([[19, 22],\n",
       "       [43, 50]])"
      ]
     },
     "execution_count": 5,
     "metadata": {},
     "output_type": "execute_result"
    }
   ],
   "source": [
    "##2##\n",
    "#multiplication\n",
    "np.dot(a1,a2)"
   ]
  },
  {
   "cell_type": "code",
   "execution_count": 6,
   "id": "498095fe",
   "metadata": {},
   "outputs": [
    {
     "data": {
      "text/plain": [
       "array([[19, 22],\n",
       "       [43, 50]])"
      ]
     },
     "execution_count": 6,
     "metadata": {},
     "output_type": "execute_result"
    }
   ],
   "source": [
    "##3##\n",
    "# product\n",
    "np.dot(a1,a2)"
   ]
  },
  {
   "cell_type": "code",
   "execution_count": 7,
   "id": "cdb6b861",
   "metadata": {},
   "outputs": [
    {
     "name": "stdout",
     "output_type": "stream",
     "text": [
      "[[ 6  8]\n",
      " [10 12]]\n",
      "[[-4 -4]\n",
      " [-4 -4]]\n"
     ]
    }
   ],
   "source": [
    "##4##\n",
    "Add=a1+a2\n",
    "print(Add)\n",
    "Subtract=a1-a2\n",
    "print(Subtract)"
   ]
  },
  {
   "cell_type": "code",
   "execution_count": 9,
   "id": "1c728fb3",
   "metadata": {},
   "outputs": [
    {
     "data": {
      "text/plain": [
       "array([[1, 3],\n",
       "       [2, 4]])"
      ]
     },
     "execution_count": 9,
     "metadata": {},
     "output_type": "execute_result"
    }
   ],
   "source": [
    "##5##\n",
    "transpose=a1.transpose()\n",
    "transpose"
   ]
  },
  {
   "cell_type": "code",
   "execution_count": 10,
   "id": "7193d8be",
   "metadata": {},
   "outputs": [
    {
     "name": "stdout",
     "output_type": "stream",
     "text": [
      "The dimension : 4\n",
      "The created matrix of N * N: [[1, 2, 3, 4], [5, 6, 7, 8], [9, 10, 11, 12], [13, 14, 15, 16]]\n"
     ]
    }
   ],
   "source": [
    "##6##\n",
    "N = 4\n",
    "print(\"The dimension : \" + str(N))\n",
    "res = [list(range(1 + N * i, 1 + N * (i + 1))) for i in range(N)]\n",
    "print(\"The created matrix of N * N: \" + str(res))"
   ]
  },
  {
   "cell_type": "code",
   "execution_count": 11,
   "id": "a0a74647",
   "metadata": {},
   "outputs": [
    {
     "data": {
      "text/plain": [
       "array([[2],\n",
       "       [4]])"
      ]
     },
     "execution_count": 11,
     "metadata": {},
     "output_type": "execute_result"
    }
   ],
   "source": [
    "##7##\n",
    "#to get kth column in n*m matrix\n",
    "#let A be the matrix\n",
    "# code is : A[0:n,k-1:k]\n",
    "# To get 2nd column of matrix a1\n",
    "a1[0:2,1:2]"
   ]
  },
  {
   "cell_type": "code",
   "execution_count": 14,
   "id": "1732a851",
   "metadata": {},
   "outputs": [
    {
     "name": "stdout",
     "output_type": "stream",
     "text": [
      "[[1 2]\n",
      " [3 4]\n",
      " [5 6]\n",
      " [7 8]]\n"
     ]
    }
   ],
   "source": [
    "##8##\n",
    "stack_matrix=np.vstack((a1,a2))\n",
    "print(stack_matrix)\n"
   ]
  },
  {
   "cell_type": "code",
   "execution_count": 15,
   "id": "643559c8",
   "metadata": {},
   "outputs": [
    {
     "name": "stdout",
     "output_type": "stream",
     "text": [
      "Not a palindrome\n"
     ]
    }
   ],
   "source": [
    "##9##\n",
    "string=\"ABCDA\"\n",
    "if(string==string[::-1]):\n",
    "      print(\"The string is a palindrome\")\n",
    "else:\n",
    "      print(\"Not a palindrome\")"
   ]
  },
  {
   "cell_type": "code",
   "execution_count": 17,
   "id": "47af58e9",
   "metadata": {},
   "outputs": [
    {
     "name": "stdout",
     "output_type": "stream",
     "text": [
      "The string is a palindrome\n",
      "The entered string is symmetrical\n"
     ]
    }
   ],
   "source": [
    "## 10 ##\n",
    "# to check whether the string is symmetry.\n",
    "def symmetry(a):\n",
    "     \n",
    "    n = len(a)\n",
    "    flag = 0\n",
    "    if n%2:\n",
    "        mid = n//2 +1\n",
    "    else:\n",
    "        mid = n//2\n",
    "         \n",
    "    start1 = 0\n",
    "    start2 = mid\n",
    "     \n",
    "    while(start1 < mid and start2 < n):\n",
    "         \n",
    "        if (a[start1]== a[start2]):\n",
    "            start1 = start1 + 1\n",
    "            start2 = start2 + 1\n",
    "        else:\n",
    "            flag = 1\n",
    "            break\n",
    "    if flag == 0:\n",
    "        print(\"The entered string is symmetrical\")\n",
    "    else:\n",
    "        print(\"The entered string is not symmetrical\")\n",
    "        \n",
    "# To check whether string is palindrome        \n",
    "if(string==string[::-1]):\n",
    "      print(\"The string is a palindrome\")\n",
    "else:\n",
    "      print(\"Not a palindrome\")\n",
    "        \n",
    "string = 'amaama'\n",
    "symmetry(string)"
   ]
  },
  {
   "cell_type": "code",
   "execution_count": null,
   "id": "5f9b954a",
   "metadata": {},
   "outputs": [],
   "source": []
  }
 ],
 "metadata": {
  "kernelspec": {
   "display_name": "Python 3",
   "language": "python",
   "name": "python3"
  },
  "language_info": {
   "codemirror_mode": {
    "name": "ipython",
    "version": 3
   },
   "file_extension": ".py",
   "mimetype": "text/x-python",
   "name": "python",
   "nbconvert_exporter": "python",
   "pygments_lexer": "ipython3",
   "version": "3.8.8"
  }
 },
 "nbformat": 4,
 "nbformat_minor": 5
}

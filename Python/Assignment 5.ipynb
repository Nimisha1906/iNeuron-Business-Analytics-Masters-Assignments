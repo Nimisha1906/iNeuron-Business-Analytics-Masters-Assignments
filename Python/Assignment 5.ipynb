{
 "cells": [
  {
   "cell_type": "code",
   "execution_count": 2,
   "id": "ba6ada3f",
   "metadata": {},
   "outputs": [
    {
     "name": "stdout",
     "output_type": "stream",
     "text": [
      "-4\n",
      "-66\n"
     ]
    }
   ],
   "source": [
    "## 1 ##\n",
    "l = [-2,10, 8, -4, 45, -66, 93]\n",
    "lower = 1\n",
    "upper = len(l)\n",
    "for i in range(lower ,upper):\n",
    "    if l[i]<0:\n",
    "        print(l[i])"
   ]
  },
  {
   "cell_type": "code",
   "execution_count": 3,
   "id": "65f38761",
   "metadata": {},
   "outputs": [
    {
     "name": "stdout",
     "output_type": "stream",
     "text": [
      "[10, 8, 66, 93]\n",
      "[10, 8, 45, 93]\n"
     ]
    }
   ],
   "source": [
    "## 2 ##\n",
    "# multiple elements can be removed according to the necessity.Given two methods\n",
    "# removing by index range\n",
    "l1 = [10, 8, 4, 45, 66, 93]\n",
    "del l1[2:4]\n",
    "print(l1)\n",
    "# removing negative numbers\n",
    "l = [10, 8, -4, 45, -66, 93]\n",
    "for i in l:\n",
    "    if i <0:\n",
    "        l.remove(i)\n",
    "print(l)"
   ]
  },
  {
   "cell_type": "code",
   "execution_count": 4,
   "id": "bb27cb40",
   "metadata": {},
   "outputs": [
    {
     "name": "stdout",
     "output_type": "stream",
     "text": [
      "[10, 8, -4, 45, -66, 93]\n"
     ]
    }
   ],
   "source": [
    "## 3 ##\n",
    "l = [10, [],8, -4,[] ,45, -66, [] ,93]\n",
    "for i in l:\n",
    "    if i ==[]:\n",
    "        l.remove(i)\n",
    "print(l)"
   ]
  },
  {
   "cell_type": "code",
   "execution_count": 5,
   "id": "9b1fea1a",
   "metadata": {},
   "outputs": [
    {
     "name": "stdout",
     "output_type": "stream",
     "text": [
      "[10, 8, -4, 45, -66, 93]\n"
     ]
    }
   ],
   "source": [
    "## 4 ##\n",
    "l = [10,8, -4 ,45, -66 ,93]\n",
    "l1 = l.copy()\n",
    "print(l1)"
   ]
  },
  {
   "cell_type": "code",
   "execution_count": 7,
   "id": "08d7b54c",
   "metadata": {},
   "outputs": [
    {
     "data": {
      "text/plain": [
       "5"
      ]
     },
     "execution_count": 7,
     "metadata": {},
     "output_type": "execute_result"
    }
   ],
   "source": [
    "## 5 ##\n",
    "l=[1,1,2,3,4,5,6,1,7,6,1,1]\n",
    "l.count(1)"
   ]
  },
  {
   "cell_type": "code",
   "execution_count": 6,
   "id": "850b2362",
   "metadata": {},
   "outputs": [
    {
     "name": "stdout",
     "output_type": "stream",
     "text": [
      "[10, -4, [], 45, -66, 93]\n"
     ]
    }
   ],
   "source": [
    "## 6 ##\n",
    "l = [10, (), -4,[] ,45, -66, () ,93]\n",
    "for i in l:\n",
    "    if i ==():\n",
    "        l.remove(i)\n",
    "print(l)"
   ]
  },
  {
   "cell_type": "code",
   "execution_count": 8,
   "id": "f17707d2",
   "metadata": {},
   "outputs": [
    {
     "name": "stdout",
     "output_type": "stream",
     "text": [
      "[1, 6]\n"
     ]
    }
   ],
   "source": [
    "## 7 ##\n",
    "def duplicate(l):\n",
    "    n=len(l)\n",
    "    dup=[]\n",
    "    for i in range(n):\n",
    "        k = i + 1\n",
    "        for j in range(k,n):\n",
    "            if l[i] == l[j] and l[i] not in dup:\n",
    "                dup.append(l[i])\n",
    "    return dup\n",
    "# example\n",
    "l=[1,1,2,3,4,5,6,1,7,6,1,1]\n",
    "print(duplicate(l))"
   ]
  },
  {
   "cell_type": "code",
   "execution_count": 9,
   "id": "d4c46c62",
   "metadata": {},
   "outputs": [
    {
     "name": "stdout",
     "output_type": "stream",
     "text": [
      "[10, 30, 60, 100, 150]\n"
     ]
    }
   ],
   "source": [
    "## 8 ##\n",
    "def Cumulative(l):\n",
    "    new = []\n",
    "    cumsum = 0\n",
    "    for element in l:\n",
    "        cumsum += element\n",
    "        new.append(cumsum)\n",
    "    return new\n",
    "# example\n",
    "lists = [10, 20, 30, 40, 50]\n",
    "print (Cumulative(lists))"
   ]
  },
  {
   "cell_type": "code",
   "execution_count": 10,
   "id": "cefed272",
   "metadata": {},
   "outputs": [
    {
     "name": "stdout",
     "output_type": "stream",
     "text": [
      "[2, 5, 5, 8, 17, 0, 1]\n"
     ]
    }
   ],
   "source": [
    "## 9 ##\n",
    "l = [11, 23, 41, 62, 89, 0, 10]\n",
    "num = []\n",
    "for i in l:\n",
    "    sum = 0\n",
    "    for digit in str(i):\n",
    "        sum += int(digit)\n",
    "    num.append(sum)\n",
    "\n",
    "print(num)"
   ]
  },
  {
   "cell_type": "code",
   "execution_count": 11,
   "id": "88c3446b",
   "metadata": {},
   "outputs": [
    {
     "name": "stdout",
     "output_type": "stream",
     "text": [
      "[[1, 2, 3, 4], [5, 6, 7, 8], [9]]\n"
     ]
    }
   ],
   "source": [
    "## 10 ##\n",
    "l = [1, 2, 3, 4, 5, 6, 7, 8, 9] \n",
    "n = 4\n",
    "x = [l[i:i + n] for i in range(0, len(l), n)] \n",
    "print(x)"
   ]
  },
  {
   "cell_type": "code",
   "execution_count": 13,
   "id": "25bfa624",
   "metadata": {},
   "outputs": [
    {
     "name": "stdout",
     "output_type": "stream",
     "text": [
      "['a', 'd', 'h', 'b', 'c', 'e', 'i', 'f', 'g']\n"
     ]
    }
   ],
   "source": [
    "## 11 ##\n",
    "def sort_list(list1, list2):\n",
    " \n",
    "    zipped_pairs = zip(list2, list1)\n",
    "    z = [x for _, x in sorted(zipped_pairs)]\n",
    "    return z\n",
    "# example\n",
    "l1 = [\"a\", \"b\", \"c\", \"d\", \"e\", \"f\", \"g\", \"h\", \"i\"]\n",
    "l2 = [ 0,   1,   1,    0,   1,   2,   2,   0,   1]\n",
    "print(sort_list(l1, l2))"
   ]
  },
  {
   "cell_type": "code",
   "execution_count": null,
   "id": "75cc5645",
   "metadata": {},
   "outputs": [],
   "source": []
  }
 ],
 "metadata": {
  "kernelspec": {
   "display_name": "Python 3",
   "language": "python",
   "name": "python3"
  },
  "language_info": {
   "codemirror_mode": {
    "name": "ipython",
    "version": 3
   },
   "file_extension": ".py",
   "mimetype": "text/x-python",
   "name": "python",
   "nbconvert_exporter": "python",
   "pygments_lexer": "ipython3",
   "version": "3.8.8"
  }
 },
 "nbformat": 4,
 "nbformat_minor": 5
}
